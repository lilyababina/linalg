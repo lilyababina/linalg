{
  "nbformat": 4,
  "nbformat_minor": 0,
  "metadata": {
    "colab": {
      "name": "linal_hw1.ipynb",
      "provenance": [],
      "collapsed_sections": []
    },
    "kernelspec": {
      "name": "python3",
      "display_name": "Python 3"
    }
  },
  "cells": [
    {
      "cell_type": "code",
      "metadata": {
        "id": "wQgvtOhayDb-",
        "colab_type": "code",
        "colab": {}
      },
      "source": [
        ""
      ],
      "execution_count": null,
      "outputs": []
    },
    {
      "cell_type": "markdown",
      "metadata": {
        "id": "w9kZfGiVyERK",
        "colab_type": "text"
      },
      "source": [
        "1. Исследовать на линейную зависимость:\n",
        "𝑓1(𝑥)=𝑒𝑥,𝑓2(𝑥)=1,𝑓3(𝑥)=𝑥+1,𝑓4(𝑥)=𝑥−𝑒𝑥. \n",
        "\n",
        "Решение\n",
        "𝑓4(𝑥) = 𝑓3(𝑥) - 𝑓2(𝑥) - 𝑓1(𝑥)\n",
        "значит 𝑓1(𝑥)=𝑒𝑥,𝑓2(𝑥)=1,𝑓3(𝑥)=𝑥+1,𝑓4(𝑥)=𝑥−𝑒𝑥 линейно зависимы\n"
      ]
    },
    {
      "cell_type": "markdown",
      "metadata": {
        "id": "40t0fI60ykhv",
        "colab_type": "text"
      },
      "source": [
        "__2.__ Исследовать на линейную зависимость:\n",
        "$$f_{1}(x)=2, f_{2}(x)=x, f_{3}(x)=x^{2}, f_{4}(x)=(x+1)^{2}.$$\n",
        "\n",
        "$$f_{4}(x) = x^{2} + 2*x + 1.$$\n",
        "$$f_{4}(x) = f_{3}(x) + 2* f_{2}(x) + 0.5* f_{1}(x).$$\n",
        "\n",
        "линейно зависимы\n"
      ]
    },
    {
      "cell_type": "markdown",
      "metadata": {
        "id": "Z-dtLodBz36I",
        "colab_type": "text"
      },
      "source": [
        "__3.__ Найти координаты вектора $x = (2, 3, 5)\\in \\mathbb{R}^{3}$ в базисе $b_{1}=(0, 0, 10)$, $b_{2}=(2, 0, 0)$, $b_{3}=(0, 1, 0)$.\n",
        "\n",
        "\n",
        "$$x=(2, 3, 5)=(2,0,0)+(0, 3, 0)+(0, 0, 5)=1\\cdot(2, 0, 0)+3\\cdot(0, 1, 0)+0.5\\cdot(0, 0, 1)=b_{2}+3b_{3}+0.5b_{1},$$"
      ]
    },
    {
      "cell_type": "markdown",
      "metadata": {
        "id": "oKUrdn5t0wyD",
        "colab_type": "text"
      },
      "source": [
        "__4.__ Найти координаты вектора $3x^{2}-2x+2\\in\\mathbb{R}^{3}[x]$:\n",
        "\n",
        "   а) в базисе $1$, $x$, $x^{2}$;\n",
        "\n",
        "   б) в базисе $x^{2}$, $x-1$, $1$.\n",
        "\n",
        "\n",
        "   a) (2, -2, 3)\n",
        "   б) (3, -2, 0)"
      ]
    },
    {
      "cell_type": "markdown",
      "metadata": {
        "id": "NfNM_IKj1Z-f",
        "colab_type": "text"
      },
      "source": [
        "__5.__ Установить, является ли линейным подпространством:\n",
        "\n",
        "а) совокупность всех векторов трехмерного пространства, у которых по крайней мере одна из первых двух координат равна нулю;\n",
        "    \n",
        "б) все векторы, являющиеся линейными комбинациями данных векторов $\\{u_{1}, u_{2}, ..., u_{n}\\}$.\n",
        "\n",
        "а) Проведя проверку по приведенному утверждению, мы увидим, что\n",
        "(0,𝑎,𝑏)+(0,𝑐,𝑑)=(0,𝑎+𝑐,𝑏+𝑑), \n",
        "𝛼⋅(0,𝑎,𝑏)=(0,𝛼𝑎,𝛼𝑏). \n",
        "(а,0,𝑏)+(с,0,𝑑)=(𝑎+𝑐,0,𝑏+𝑑), \n",
        "𝛼⋅(а,0,𝑏)=(𝛼𝑎,0,𝛼𝑏). \n",
        "Полученные векторы также принадлежат указанному в задании множеству всех векторов вида  (𝑎,𝑏,с) , то есть данное множество является подпространством линейного пространства  ℝ3 .\n",
        "б) вектор x = 𝛼1*u1 + 𝛼2*u2 +...+𝛼n*un\n",
        " соответственно будет являться линейным подпростарнстовм тк выполняется слодение и умножение"
      ]
    },
    {
      "cell_type": "markdown",
      "metadata": {
        "id": "8DGK8Q0xU27n",
        "colab_type": "text"
      },
      "source": [
        "вторая часть\n",
        "__1.__ Найти скалярное произведение векторов $x, y \\in \\mathbb{R}$:<br>\n",
        "а) $x=(0,-3, 6),~y=(-4, 7, 9);$<br>\n",
        "б) $x=(7, -4, 0, 1),~y=(-3, 1, 11, 2).$\n",
        "\n",
        "__2.__ Найти нормы векторов $(4, 2, 4)$ и $(12, 3, 4)$ и угол между ними.\n",
        "\n",
        "\n",
        "__3.__ Будет ли линейное пространство евклидовым, если за скалярное произведение принять:<br>\n",
        "а) произведение длин векторов;<br>\n",
        "б) утроенное обычное скалярное произведение векторов?\n",
        "   \n",
        "   \n",
        "__4.__ Какие из нижеперечисленных векторов образуют ортонормированный базис в линейном пространстве $\\mathbb{R}^{3}$:<br>\n",
        "а) $(1,0,0),(0,0,1);$ <br>\n",
        "б) $(1/\\sqrt{2},-1/\\sqrt{2},0),(1/\\sqrt{2},1/\\sqrt{2},0), (0,0,1);$<br>\n",
        "в) $(1/2, -1/2, 0), (0, 1/2, 1/2), (0,0,1);$<br>\n",
        "г) $(1,0,0),(0,1,0),(0,0,1)?$ "
      ]
    },
    {
      "cell_type": "code",
      "metadata": {
        "id": "GTyglXvBUWe5",
        "colab_type": "code",
        "colab": {}
      },
      "source": [
        "import numpy as np"
      ],
      "execution_count": null,
      "outputs": []
    },
    {
      "cell_type": "markdown",
      "metadata": {
        "id": "VWnJolafVC0g",
        "colab_type": "text"
      },
      "source": [
        "__1.__ Найти скалярное произведение векторов $x, y \\in \\mathbb{R}$:<br>\n",
        "а) $x=(0,-3, 6),~y=(-4, 7, 9);$<br>\n",
        "б) $x=(7, -4, 0, 1),~y=(-3, 1, 11, 2).$"
      ]
    },
    {
      "cell_type": "code",
      "metadata": {
        "id": "9_uoolgrUl5l",
        "colab_type": "code",
        "colab": {
          "base_uri": "https://localhost:8080/",
          "height": 51
        },
        "outputId": "3d79cca7-5406-4bac-9767-6d6e25629721"
      },
      "source": [
        "#a\n",
        "\n",
        "a = np.array([0, -3, 6])\n",
        "b = np.array([-4, 7, 9])\n",
        "print(f'Скалярное произведение a и b:\\n{np.dot(a, b)}')"
      ],
      "execution_count": null,
      "outputs": [
        {
          "output_type": "stream",
          "text": [
            "Скалярное произведение a и b:\n",
            "33\n"
          ],
          "name": "stdout"
        }
      ]
    },
    {
      "cell_type": "code",
      "metadata": {
        "id": "pHcnmIOeVM4Z",
        "colab_type": "code",
        "colab": {
          "base_uri": "https://localhost:8080/",
          "height": 34
        },
        "outputId": "af03bba8-a6f4-41fa-fdef-a0c7301c61f2"
      },
      "source": [
        "-3*7+6*9"
      ],
      "execution_count": null,
      "outputs": [
        {
          "output_type": "execute_result",
          "data": {
            "text/plain": [
              "33"
            ]
          },
          "metadata": {
            "tags": []
          },
          "execution_count": 4
        }
      ]
    },
    {
      "cell_type": "code",
      "metadata": {
        "id": "DKpZtP2qVYh1",
        "colab_type": "code",
        "colab": {
          "base_uri": "https://localhost:8080/",
          "height": 51
        },
        "outputId": "070c07d1-40a5-49b2-cdc4-adeeb2a91a58"
      },
      "source": [
        "#б\n",
        "\n",
        "a = np.array([7, -4, 0, 1])\n",
        "b = np.array([-3,1, 11, 2])\n",
        "print(f'Скалярное произведение a и b:\\n{np.dot(a, b)}')"
      ],
      "execution_count": null,
      "outputs": [
        {
          "output_type": "stream",
          "text": [
            "Скалярное произведение a и b:\n",
            "-23\n"
          ],
          "name": "stdout"
        }
      ]
    },
    {
      "cell_type": "code",
      "metadata": {
        "id": "Bsu9Vye5Vk-x",
        "colab_type": "code",
        "colab": {
          "base_uri": "https://localhost:8080/",
          "height": 34
        },
        "outputId": "5ec6b809-69c8-46cb-b6bd-ea92ab23fbf7"
      },
      "source": [
        "-21-4+2"
      ],
      "execution_count": null,
      "outputs": [
        {
          "output_type": "execute_result",
          "data": {
            "text/plain": [
              "-23"
            ]
          },
          "metadata": {
            "tags": []
          },
          "execution_count": 6
        }
      ]
    },
    {
      "cell_type": "markdown",
      "metadata": {
        "id": "XtBIzgDXVs-N",
        "colab_type": "text"
      },
      "source": [
        "2. Найти нормы векторов  (4,2,4)  и  (12,3,4)  и угол между ними."
      ]
    },
    {
      "cell_type": "code",
      "metadata": {
        "id": "TStjiEuDWZX0",
        "colab_type": "code",
        "colab": {}
      },
      "source": [
        "from numpy.linalg import norm"
      ],
      "execution_count": null,
      "outputs": []
    },
    {
      "cell_type": "code",
      "metadata": {
        "id": "M1r1Cy5OWcsf",
        "colab_type": "code",
        "colab": {}
      },
      "source": [
        "a = np.array([4, 2, 4])\n",
        "b = np.array([12, 3, 4])"
      ],
      "execution_count": null,
      "outputs": []
    },
    {
      "cell_type": "markdown",
      "metadata": {
        "id": "GUxyEPCjW5rV",
        "colab_type": "text"
      },
      "source": [
        "Определим манхэттенскую норму вектора $a$:\n",
        "\n",
        "$$\\left\\|a\\right\\| = |4|+|2|+|4|=10.$$\n",
        "$$\\left\\|b\\right\\| = |12|+|3|+|4|=19.$$"
      ]
    },
    {
      "cell_type": "code",
      "metadata": {
        "id": "9WfEQQOqWr6x",
        "colab_type": "code",
        "colab": {
          "base_uri": "https://localhost:8080/",
          "height": 51
        },
        "outputId": "8dbfe1fd-0af6-410f-9d8c-5d3a4df57bd3"
      },
      "source": [
        "print(f'l1 норма вектора a:\\n{norm(a, ord=1)}')"
      ],
      "execution_count": null,
      "outputs": [
        {
          "output_type": "stream",
          "text": [
            "l1 норма вектора a:\n",
            "10.0\n"
          ],
          "name": "stdout"
        }
      ]
    },
    {
      "cell_type": "code",
      "metadata": {
        "id": "TCfSVRgHXHHB",
        "colab_type": "code",
        "colab": {
          "base_uri": "https://localhost:8080/",
          "height": 51
        },
        "outputId": "906d77d6-68b9-4f79-b0a1-7a7689317226"
      },
      "source": [
        "print(f'l1 норма вектора b:\\n{norm(b, ord=1)}')"
      ],
      "execution_count": null,
      "outputs": [
        {
          "output_type": "stream",
          "text": [
            "l1 норма вектора b:\n",
            "19.0\n"
          ],
          "name": "stdout"
        }
      ]
    },
    {
      "cell_type": "markdown",
      "metadata": {
        "id": "lxL7b2GbXNtj",
        "colab_type": "text"
      },
      "source": [
        "Определим евклидову норму вектора $a$:\n",
        "\n",
        "$$\\left\\|a\\right\\| = \\sqrt{4^{2}+2^{2}+4^{2}}=6.$$"
      ]
    },
    {
      "cell_type": "markdown",
      "metadata": {
        "id": "xpTfcTqQXks5",
        "colab_type": "text"
      },
      "source": [
        "Определим евклидову норму вектора $b$:\n",
        "\n",
        "$$\\left\\|b\\right\\| = \\sqrt{12^{2}+3^{2}+4^{2}}=13.$$"
      ]
    },
    {
      "cell_type": "code",
      "metadata": {
        "id": "JKockzELXxTM",
        "colab_type": "code",
        "colab": {
          "base_uri": "https://localhost:8080/",
          "height": 51
        },
        "outputId": "4654fc23-0060-4378-8da7-82e32a0a069b"
      },
      "source": [
        "print(f'l2 норма вектора a:\\n{norm(a, ord=2)}')"
      ],
      "execution_count": null,
      "outputs": [
        {
          "output_type": "stream",
          "text": [
            "l2 норма вектора a:\n",
            "6.0\n"
          ],
          "name": "stdout"
        }
      ]
    },
    {
      "cell_type": "code",
      "metadata": {
        "id": "3mAB1PqQXz_r",
        "colab_type": "code",
        "colab": {
          "base_uri": "https://localhost:8080/",
          "height": 51
        },
        "outputId": "989508ca-1dbb-427d-f722-aefcc4f6413b"
      },
      "source": [
        "print(f'l2 норма вектора b:\\n{norm(b, ord=2)}')"
      ],
      "execution_count": null,
      "outputs": [
        {
          "output_type": "stream",
          "text": [
            "l2 норма вектора b:\n",
            "13.0\n"
          ],
          "name": "stdout"
        }
      ]
    },
    {
      "cell_type": "markdown",
      "metadata": {
        "id": "UGpOCx1zZAN_",
        "colab_type": "text"
      },
      "source": [
        "$$cos\\varphi = \\frac{4\\cdot12+2\\cdot3+4\\cdot4}{\\sqrt{4^{2}+2^{2}+4^{2}}\\sqrt{12^{2}+3^{2}+4^{2}}}=\\frac{70}{6\\cdot13}\\approx 0.897$$"
      ]
    },
    {
      "cell_type": "code",
      "metadata": {
        "id": "nLN1u24UZrjr",
        "colab_type": "code",
        "colab": {
          "base_uri": "https://localhost:8080/",
          "height": 51
        },
        "outputId": "ced67c7c-cff8-4e64-c8bb-4117aa02a498"
      },
      "source": [
        "cos_phi = np.dot(a, b) / norm(a) / norm(b)\n",
        "print(f'Косинус угла между a и b: {cos_phi:.2f}')\n",
        "print(f'Угол между a и b: {np.arccos(cos_phi):.2f}')"
      ],
      "execution_count": null,
      "outputs": [
        {
          "output_type": "stream",
          "text": [
            "Косинус угла между a и b: 0.90\n",
            "Угол между a и b: 0.46\n"
          ],
          "name": "stdout"
        }
      ]
    },
    {
      "cell_type": "markdown",
      "metadata": {
        "id": "26Siq4MyX_Mr",
        "colab_type": "text"
      },
      "source": [
        "3. Будет ли линейное пространство евклидовым, если за скалярное произведение принять:\n",
        "а) произведение длин векторов;\n",
        "б) утроенное обычное скалярное произведение векторов?"
      ]
    },
    {
      "cell_type": "markdown",
      "metadata": {
        "id": "NkiygpMZgQ4r",
        "colab_type": "text"
      },
      "source": [
        "_Определение__\n",
        "\n",
        "Линейное пространство над полем вещественных чисел называется _евклидовым пространством_, если на нем введено правило, согласно которому каждой упорядоченной паре векторов $x$ и $y$ поставлено в соответствие вещественное число, называемое _скалярным произведением_ и обозначаемое символом $(x, y)$.\n",
        "\n",
        "При этом указанное правило должно подчиняться четырем аксиомам:<br>\n",
        "1) $(x,y)=(y,x);$<br>\n",
        "2) $(\\lambda x, y)=\\lambda(x, y);$<br>\n",
        "3) $(x_{1}+x_{2},y)=(x_{1},y)+(x_{2},y);$<br>\n",
        "4) $(x, x)\\geq0$, причем $(x,x)=0\\Leftrightarrow x=0.$\n"
      ]
    },
    {
      "cell_type": "markdown",
      "metadata": {
        "id": "X0Ap523hgZFF",
        "colab_type": "text"
      },
      "source": [
        "а) из определения - будет\n",
        "б) из определения - будет"
      ]
    },
    {
      "cell_type": "markdown",
      "metadata": {
        "id": "6IPTrILgaaAs",
        "colab_type": "text"
      },
      "source": [
        "__4.__ Какие из нижеперечисленных векторов образуют ортонормированный базис в линейном пространстве $\\mathbb{R}^{3}$:<br>\n",
        "а) $(1,0,0),(0,0,1);$ <br>\n",
        "б) $(1/\\sqrt{2},-1/\\sqrt{2},0),(1/\\sqrt{2},1/\\sqrt{2},0), (0,0,1);$<br>\n",
        "в) $(1/2, -1/2, 0), (0, 1/2, 1/2), (0,0,1);$<br>\n",
        "г) $(1,0,0),(0,1,0),(0,0,1)?$ "
      ]
    },
    {
      "cell_type": "code",
      "metadata": {
        "id": "jiKjrfRKb4XE",
        "colab_type": "code",
        "colab": {}
      },
      "source": [
        "Определение. В конечномерном евклидовом пространстве базис  {𝑒1,𝑒2,...,𝑒𝑛}  называется ортонормированным, если\n",
        "(𝑒𝑖,𝑒𝑗)=0   ∀   𝑖≠𝑗  и  (𝑒𝑖,𝑒𝑖)=1   ∀   𝑖∈[1,𝑛]. "
      ],
      "execution_count": null,
      "outputs": []
    },
    {
      "cell_type": "markdown",
      "metadata": {
        "id": "LMrCiI65cRtB",
        "colab_type": "text"
      },
      "source": [
        "а) a=(1,0,0),b=(0,0,1)\n",
        "\n",
        "(a,b) = 0\n",
        "\n",
        "(a, a) = 1\n",
        "\n",
        "(b, b) = 1\n",
        "\n",
        "не образуют ортонормированный базис тк не хватает нще одного вектора"
      ]
    },
    {
      "cell_type": "markdown",
      "metadata": {
        "id": "vKGB8eIpdnP5",
        "colab_type": "text"
      },
      "source": [
        "б) a =(1/2‾√,−1/2‾√,0),b = (1/2‾√,1/2‾√,0),c=(0,0,1); \n",
        "\n",
        "(a, a) = 0.5 + 0.5 =1\n",
        "\n",
        "(b,b) = 1\n",
        "\n",
        "(c, c) = 1\n",
        "\n",
        "(a, b) = 0.5-0.5 = 0\n",
        "\n",
        "(a,c) = 0\n",
        "\n",
        "(b, c) = 0\n",
        "\n",
        "оборазуют ортонормированный базис"
      ]
    },
    {
      "cell_type": "markdown",
      "metadata": {
        "id": "XuAT40U8eZrW",
        "colab_type": "text"
      },
      "source": [
        "в)  (1/2,−1/2,0),(0,1/2,1/2),(0,0,1); \n",
        "\n",
        "(a, a) = 0.25 + 0.25 =0.5\n",
        "\n",
        "не оборазуют ортонормированный базис"
      ]
    },
    {
      "cell_type": "markdown",
      "metadata": {
        "id": "nUdDp_ztew1z",
        "colab_type": "text"
      },
      "source": [
        "г) (1,0,0),(0,1,0),(0,0,1)\n",
        "\n",
        "\n",
        "(a, a)  =1\n",
        "\n",
        "(b,b) = 1\n",
        "\n",
        "(c, c) = 1\n",
        "\n",
        "(a, b)  = 0\n",
        "\n",
        "(a,c) = 0\n",
        "\n",
        "(b, c) = 0\n",
        "\n",
        "оборазуют ортонормированный базис"
      ]
    }
  ]
}